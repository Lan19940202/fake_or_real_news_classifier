{
 "cells": [
  {
   "cell_type": "markdown",
   "metadata": {},
   "source": [
    "## Import packages"
   ]
  },
  {
   "cell_type": "code",
   "execution_count": 81,
   "metadata": {
    "collapsed": true
   },
   "outputs": [],
   "source": [
    "import pandas as pd\n",
    "import numpy as np\n",
    "from time import time\n",
    "\n",
    "import requests\n",
    "import bs4\n",
    "\n",
    "from sklearn.model_selection import train_test_split\n",
    "\n",
    "from sklearn.naive_bayes import MultinomialNB\n",
    "from sklearn.metrics import accuracy_score, classification_report, confusion_matrix\n",
    "\n",
    "from sklearn.model_selection import GridSearchCV\n",
    "from sklearn.model_selection import KFold\n",
    "from sklearn.pipeline import Pipeline\n",
    "\n",
    "from sklearn.preprocessing import LabelEncoder\n",
    "\n",
    "from sklearn.feature_extraction.text import TfidfVectorizer, CountVectorizer"
   ]
  },
  {
   "cell_type": "code",
   "execution_count": 2,
   "metadata": {
    "collapsed": true
   },
   "outputs": [],
   "source": [
    "import matplotlib.pyplot as plt\n",
    "import seaborn as sns\n",
    "%matplotlib inline"
   ]
  },
  {
   "cell_type": "markdown",
   "metadata": {},
   "source": [
    "## Read dataset"
   ]
  },
  {
   "cell_type": "code",
   "execution_count": 3,
   "metadata": {
    "collapsed": true
   },
   "outputs": [],
   "source": [
    "news = pd.read_csv('fake_or_real_news.csv', index_col=0) # set the first column as the index"
   ]
  },
  {
   "cell_type": "code",
   "execution_count": 4,
   "metadata": {},
   "outputs": [
    {
     "data": {
      "text/html": [
       "<div>\n",
       "<style>\n",
       "    .dataframe thead tr:only-child th {\n",
       "        text-align: right;\n",
       "    }\n",
       "\n",
       "    .dataframe thead th {\n",
       "        text-align: left;\n",
       "    }\n",
       "\n",
       "    .dataframe tbody tr th {\n",
       "        vertical-align: top;\n",
       "    }\n",
       "</style>\n",
       "<table border=\"1\" class=\"dataframe\">\n",
       "  <thead>\n",
       "    <tr style=\"text-align: right;\">\n",
       "      <th></th>\n",
       "      <th>title</th>\n",
       "      <th>text</th>\n",
       "      <th>label</th>\n",
       "    </tr>\n",
       "  </thead>\n",
       "  <tbody>\n",
       "    <tr>\n",
       "      <th>8476</th>\n",
       "      <td>You Can Smell Hillary’s Fear</td>\n",
       "      <td>Daniel Greenfield, a Shillman Journalism Fello...</td>\n",
       "      <td>FAKE</td>\n",
       "    </tr>\n",
       "    <tr>\n",
       "      <th>10294</th>\n",
       "      <td>Watch The Exact Moment Paul Ryan Committed Pol...</td>\n",
       "      <td>Google Pinterest Digg Linkedin Reddit Stumbleu...</td>\n",
       "      <td>FAKE</td>\n",
       "    </tr>\n",
       "    <tr>\n",
       "      <th>3608</th>\n",
       "      <td>Kerry to go to Paris in gesture of sympathy</td>\n",
       "      <td>U.S. Secretary of State John F. Kerry said Mon...</td>\n",
       "      <td>REAL</td>\n",
       "    </tr>\n",
       "    <tr>\n",
       "      <th>10142</th>\n",
       "      <td>Bernie supporters on Twitter erupt in anger ag...</td>\n",
       "      <td>— Kaydee King (@KaydeeKing) November 9, 2016 T...</td>\n",
       "      <td>FAKE</td>\n",
       "    </tr>\n",
       "    <tr>\n",
       "      <th>875</th>\n",
       "      <td>The Battle of New York: Why This Primary Matters</td>\n",
       "      <td>It's primary day in New York and front-runners...</td>\n",
       "      <td>REAL</td>\n",
       "    </tr>\n",
       "  </tbody>\n",
       "</table>\n",
       "</div>"
      ],
      "text/plain": [
       "                                                   title  \\\n",
       "8476                        You Can Smell Hillary’s Fear   \n",
       "10294  Watch The Exact Moment Paul Ryan Committed Pol...   \n",
       "3608         Kerry to go to Paris in gesture of sympathy   \n",
       "10142  Bernie supporters on Twitter erupt in anger ag...   \n",
       "875     The Battle of New York: Why This Primary Matters   \n",
       "\n",
       "                                                    text label  \n",
       "8476   Daniel Greenfield, a Shillman Journalism Fello...  FAKE  \n",
       "10294  Google Pinterest Digg Linkedin Reddit Stumbleu...  FAKE  \n",
       "3608   U.S. Secretary of State John F. Kerry said Mon...  REAL  \n",
       "10142  — Kaydee King (@KaydeeKing) November 9, 2016 T...  FAKE  \n",
       "875    It's primary day in New York and front-runners...  REAL  "
      ]
     },
     "execution_count": 4,
     "metadata": {},
     "output_type": "execute_result"
    }
   ],
   "source": [
    "news.head()"
   ]
  },
  {
   "cell_type": "markdown",
   "metadata": {},
   "source": [
    "## Clean the data"
   ]
  },
  {
   "cell_type": "markdown",
   "metadata": {},
   "source": [
    "#### Remove duplicate rows"
   ]
  },
  {
   "cell_type": "code",
   "execution_count": 5,
   "metadata": {},
   "outputs": [
    {
     "data": {
      "text/html": [
       "<div>\n",
       "<style>\n",
       "    .dataframe thead tr:only-child th {\n",
       "        text-align: right;\n",
       "    }\n",
       "\n",
       "    .dataframe thead th {\n",
       "        text-align: left;\n",
       "    }\n",
       "\n",
       "    .dataframe tbody tr th {\n",
       "        vertical-align: top;\n",
       "    }\n",
       "</style>\n",
       "<table border=\"1\" class=\"dataframe\">\n",
       "  <thead>\n",
       "    <tr>\n",
       "      <th></th>\n",
       "      <th colspan=\"4\" halign=\"left\">title</th>\n",
       "    </tr>\n",
       "    <tr>\n",
       "      <th></th>\n",
       "      <th>count</th>\n",
       "      <th>unique</th>\n",
       "      <th>top</th>\n",
       "      <th>freq</th>\n",
       "    </tr>\n",
       "    <tr>\n",
       "      <th>label</th>\n",
       "      <th></th>\n",
       "      <th></th>\n",
       "      <th></th>\n",
       "      <th></th>\n",
       "    </tr>\n",
       "  </thead>\n",
       "  <tbody>\n",
       "    <tr>\n",
       "      <th>FAKE</th>\n",
       "      <td>3164</td>\n",
       "      <td>3107</td>\n",
       "      <td>Michael Moore Owes Me $4.99</td>\n",
       "      <td>3</td>\n",
       "    </tr>\n",
       "    <tr>\n",
       "      <th>REAL</th>\n",
       "      <td>3171</td>\n",
       "      <td>3149</td>\n",
       "      <td>OnPolitics | 's politics blog</td>\n",
       "      <td>5</td>\n",
       "    </tr>\n",
       "  </tbody>\n",
       "</table>\n",
       "</div>"
      ],
      "text/plain": [
       "      title                                           \n",
       "      count unique                            top freq\n",
       "label                                                 \n",
       "FAKE   3164   3107    Michael Moore Owes Me $4.99    3\n",
       "REAL   3171   3149  OnPolitics | 's politics blog    5"
      ]
     },
     "execution_count": 5,
     "metadata": {},
     "output_type": "execute_result"
    }
   ],
   "source": [
    "news[['title', 'label']].groupby('label').describe()"
   ]
  },
  {
   "cell_type": "code",
   "execution_count": 14,
   "metadata": {},
   "outputs": [
    {
     "data": {
      "text/html": [
       "<div>\n",
       "<style>\n",
       "    .dataframe thead tr:only-child th {\n",
       "        text-align: right;\n",
       "    }\n",
       "\n",
       "    .dataframe thead th {\n",
       "        text-align: left;\n",
       "    }\n",
       "\n",
       "    .dataframe tbody tr th {\n",
       "        vertical-align: top;\n",
       "    }\n",
       "</style>\n",
       "<table border=\"1\" class=\"dataframe\">\n",
       "  <thead>\n",
       "    <tr>\n",
       "      <th></th>\n",
       "      <th colspan=\"4\" halign=\"left\">text</th>\n",
       "    </tr>\n",
       "    <tr>\n",
       "      <th></th>\n",
       "      <th>count</th>\n",
       "      <th>unique</th>\n",
       "      <th>top</th>\n",
       "      <th>freq</th>\n",
       "    </tr>\n",
       "    <tr>\n",
       "      <th>label</th>\n",
       "      <th></th>\n",
       "      <th></th>\n",
       "      <th></th>\n",
       "      <th></th>\n",
       "    </tr>\n",
       "  </thead>\n",
       "  <tbody>\n",
       "    <tr>\n",
       "      <th>FAKE</th>\n",
       "      <td>3164</td>\n",
       "      <td>3071</td>\n",
       "      <td></td>\n",
       "      <td>36</td>\n",
       "    </tr>\n",
       "    <tr>\n",
       "      <th>REAL</th>\n",
       "      <td>3171</td>\n",
       "      <td>2989</td>\n",
       "      <td>Killing Obama administration rules, dismantlin...</td>\n",
       "      <td>58</td>\n",
       "    </tr>\n",
       "  </tbody>\n",
       "</table>\n",
       "</div>"
      ],
      "text/plain": [
       "       text                                                               \n",
       "      count unique                                                top freq\n",
       "label                                                                     \n",
       "FAKE   3164   3071                                                      36\n",
       "REAL   3171   2989  Killing Obama administration rules, dismantlin...   58"
      ]
     },
     "execution_count": 14,
     "metadata": {},
     "output_type": "execute_result"
    }
   ],
   "source": [
    "news[['text', 'label']].groupby('label').describe()"
   ]
  },
  {
   "cell_type": "code",
   "execution_count": 13,
   "metadata": {},
   "outputs": [
    {
     "data": {
      "text/html": [
       "<div>\n",
       "<style>\n",
       "    .dataframe thead tr:only-child th {\n",
       "        text-align: right;\n",
       "    }\n",
       "\n",
       "    .dataframe thead th {\n",
       "        text-align: left;\n",
       "    }\n",
       "\n",
       "    .dataframe tbody tr th {\n",
       "        vertical-align: top;\n",
       "    }\n",
       "</style>\n",
       "<table border=\"1\" class=\"dataframe\">\n",
       "  <thead>\n",
       "    <tr style=\"text-align: right;\">\n",
       "      <th></th>\n",
       "      <th>title</th>\n",
       "      <th>text</th>\n",
       "      <th>label</th>\n",
       "    </tr>\n",
       "  </thead>\n",
       "  <tbody>\n",
       "    <tr>\n",
       "      <th>1951</th>\n",
       "      <td>OnPolitics | 's politics blog</td>\n",
       "      <td>What you need to know about the election recou...</td>\n",
       "      <td>REAL</td>\n",
       "    </tr>\n",
       "    <tr>\n",
       "      <th>4337</th>\n",
       "      <td>OnPolitics | 's politics blog</td>\n",
       "      <td>Who has Trump picked for his Cabinet so far?\\n...</td>\n",
       "      <td>REAL</td>\n",
       "    </tr>\n",
       "    <tr>\n",
       "      <th>1672</th>\n",
       "      <td>OnPolitics | 's politics blog</td>\n",
       "      <td>Who has Trump appointed to his cabinet so far?...</td>\n",
       "      <td>REAL</td>\n",
       "    </tr>\n",
       "    <tr>\n",
       "      <th>1762</th>\n",
       "      <td>OnPolitics | 's politics blog</td>\n",
       "      <td>Who has Trump appointed to his cabinet so far?...</td>\n",
       "      <td>REAL</td>\n",
       "    </tr>\n",
       "    <tr>\n",
       "      <th>2271</th>\n",
       "      <td>OnPolitics | 's politics blog</td>\n",
       "      <td>Who has Trump appointed to his cabinet so far?...</td>\n",
       "      <td>REAL</td>\n",
       "    </tr>\n",
       "  </tbody>\n",
       "</table>\n",
       "</div>"
      ],
      "text/plain": [
       "                              title  \\\n",
       "1951  OnPolitics | 's politics blog   \n",
       "4337  OnPolitics | 's politics blog   \n",
       "1672  OnPolitics | 's politics blog   \n",
       "1762  OnPolitics | 's politics blog   \n",
       "2271  OnPolitics | 's politics blog   \n",
       "\n",
       "                                                   text label  \n",
       "1951  What you need to know about the election recou...  REAL  \n",
       "4337  Who has Trump picked for his Cabinet so far?\\n...  REAL  \n",
       "1672  Who has Trump appointed to his cabinet so far?...  REAL  \n",
       "1762  Who has Trump appointed to his cabinet so far?...  REAL  \n",
       "2271  Who has Trump appointed to his cabinet so far?...  REAL  "
      ]
     },
     "execution_count": 13,
     "metadata": {},
     "output_type": "execute_result"
    }
   ],
   "source": [
    "news.loc[news['title'] == 'OnPolitics | \\'s politics blog']"
   ]
  },
  {
   "cell_type": "markdown",
   "metadata": {},
   "source": [
    "* Therefore, there are some duplicate rows in the dataset."
   ]
  },
  {
   "cell_type": "code",
   "execution_count": 33,
   "metadata": {},
   "outputs": [],
   "source": [
    "# Remove the duplicate rows\n",
    "news=news.drop_duplicates(keep='first')"
   ]
  },
  {
   "cell_type": "markdown",
   "metadata": {},
   "source": [
    "#### Create binary label"
   ]
  },
  {
   "cell_type": "code",
   "execution_count": 35,
   "metadata": {
    "collapsed": true
   },
   "outputs": [],
   "source": [
    "le2 = LabelEncoder()\n",
    "news['binary_label']=le2.fit_transform(news['label'])"
   ]
  },
  {
   "cell_type": "code",
   "execution_count": 36,
   "metadata": {
    "collapsed": true
   },
   "outputs": [],
   "source": [
    "news = news.reset_index(drop=True)"
   ]
  },
  {
   "cell_type": "code",
   "execution_count": 37,
   "metadata": {},
   "outputs": [
    {
     "data": {
      "text/html": [
       "<div>\n",
       "<style>\n",
       "    .dataframe thead tr:only-child th {\n",
       "        text-align: right;\n",
       "    }\n",
       "\n",
       "    .dataframe thead th {\n",
       "        text-align: left;\n",
       "    }\n",
       "\n",
       "    .dataframe tbody tr th {\n",
       "        vertical-align: top;\n",
       "    }\n",
       "</style>\n",
       "<table border=\"1\" class=\"dataframe\">\n",
       "  <thead>\n",
       "    <tr style=\"text-align: right;\">\n",
       "      <th></th>\n",
       "      <th>title</th>\n",
       "      <th>text</th>\n",
       "      <th>label</th>\n",
       "      <th>binary_label</th>\n",
       "    </tr>\n",
       "  </thead>\n",
       "  <tbody>\n",
       "    <tr>\n",
       "      <th>0</th>\n",
       "      <td>You Can Smell Hillary’s Fear</td>\n",
       "      <td>Daniel Greenfield, a Shillman Journalism Fello...</td>\n",
       "      <td>FAKE</td>\n",
       "      <td>0</td>\n",
       "    </tr>\n",
       "    <tr>\n",
       "      <th>1</th>\n",
       "      <td>Watch The Exact Moment Paul Ryan Committed Pol...</td>\n",
       "      <td>Google Pinterest Digg Linkedin Reddit Stumbleu...</td>\n",
       "      <td>FAKE</td>\n",
       "      <td>0</td>\n",
       "    </tr>\n",
       "    <tr>\n",
       "      <th>2</th>\n",
       "      <td>Kerry to go to Paris in gesture of sympathy</td>\n",
       "      <td>U.S. Secretary of State John F. Kerry said Mon...</td>\n",
       "      <td>REAL</td>\n",
       "      <td>1</td>\n",
       "    </tr>\n",
       "    <tr>\n",
       "      <th>3</th>\n",
       "      <td>Bernie supporters on Twitter erupt in anger ag...</td>\n",
       "      <td>— Kaydee King (@KaydeeKing) November 9, 2016 T...</td>\n",
       "      <td>FAKE</td>\n",
       "      <td>0</td>\n",
       "    </tr>\n",
       "    <tr>\n",
       "      <th>4</th>\n",
       "      <td>The Battle of New York: Why This Primary Matters</td>\n",
       "      <td>It's primary day in New York and front-runners...</td>\n",
       "      <td>REAL</td>\n",
       "      <td>1</td>\n",
       "    </tr>\n",
       "  </tbody>\n",
       "</table>\n",
       "</div>"
      ],
      "text/plain": [
       "                                               title  \\\n",
       "0                       You Can Smell Hillary’s Fear   \n",
       "1  Watch The Exact Moment Paul Ryan Committed Pol...   \n",
       "2        Kerry to go to Paris in gesture of sympathy   \n",
       "3  Bernie supporters on Twitter erupt in anger ag...   \n",
       "4   The Battle of New York: Why This Primary Matters   \n",
       "\n",
       "                                                text label  binary_label  \n",
       "0  Daniel Greenfield, a Shillman Journalism Fello...  FAKE             0  \n",
       "1  Google Pinterest Digg Linkedin Reddit Stumbleu...  FAKE             0  \n",
       "2  U.S. Secretary of State John F. Kerry said Mon...  REAL             1  \n",
       "3  — Kaydee King (@KaydeeKing) November 9, 2016 T...  FAKE             0  \n",
       "4  It's primary day in New York and front-runners...  REAL             1  "
      ]
     },
     "execution_count": 37,
     "metadata": {},
     "output_type": "execute_result"
    }
   ],
   "source": [
    "news.head()"
   ]
  },
  {
   "cell_type": "markdown",
   "metadata": {},
   "source": [
    "## Visualization analysis"
   ]
  },
  {
   "cell_type": "code",
   "execution_count": 38,
   "metadata": {},
   "outputs": [
    {
     "data": {
      "text/html": [
       "<div>\n",
       "<style>\n",
       "    .dataframe thead tr:only-child th {\n",
       "        text-align: right;\n",
       "    }\n",
       "\n",
       "    .dataframe thead th {\n",
       "        text-align: left;\n",
       "    }\n",
       "\n",
       "    .dataframe tbody tr th {\n",
       "        vertical-align: top;\n",
       "    }\n",
       "</style>\n",
       "<table border=\"1\" class=\"dataframe\">\n",
       "  <thead>\n",
       "    <tr style=\"text-align: right;\">\n",
       "      <th></th>\n",
       "      <th>title</th>\n",
       "      <th>text</th>\n",
       "      <th>label</th>\n",
       "      <th>binary_label</th>\n",
       "      <th>length_title</th>\n",
       "      <th>length_text</th>\n",
       "    </tr>\n",
       "  </thead>\n",
       "  <tbody>\n",
       "    <tr>\n",
       "      <th>0</th>\n",
       "      <td>You Can Smell Hillary’s Fear</td>\n",
       "      <td>Daniel Greenfield, a Shillman Journalism Fello...</td>\n",
       "      <td>FAKE</td>\n",
       "      <td>0</td>\n",
       "      <td>28</td>\n",
       "      <td>7518</td>\n",
       "    </tr>\n",
       "    <tr>\n",
       "      <th>1</th>\n",
       "      <td>Watch The Exact Moment Paul Ryan Committed Pol...</td>\n",
       "      <td>Google Pinterest Digg Linkedin Reddit Stumbleu...</td>\n",
       "      <td>FAKE</td>\n",
       "      <td>0</td>\n",
       "      <td>85</td>\n",
       "      <td>2646</td>\n",
       "    </tr>\n",
       "    <tr>\n",
       "      <th>2</th>\n",
       "      <td>Kerry to go to Paris in gesture of sympathy</td>\n",
       "      <td>U.S. Secretary of State John F. Kerry said Mon...</td>\n",
       "      <td>REAL</td>\n",
       "      <td>1</td>\n",
       "      <td>43</td>\n",
       "      <td>2543</td>\n",
       "    </tr>\n",
       "    <tr>\n",
       "      <th>3</th>\n",
       "      <td>Bernie supporters on Twitter erupt in anger ag...</td>\n",
       "      <td>— Kaydee King (@KaydeeKing) November 9, 2016 T...</td>\n",
       "      <td>FAKE</td>\n",
       "      <td>0</td>\n",
       "      <td>84</td>\n",
       "      <td>2660</td>\n",
       "    </tr>\n",
       "    <tr>\n",
       "      <th>4</th>\n",
       "      <td>The Battle of New York: Why This Primary Matters</td>\n",
       "      <td>It's primary day in New York and front-runners...</td>\n",
       "      <td>REAL</td>\n",
       "      <td>1</td>\n",
       "      <td>48</td>\n",
       "      <td>1840</td>\n",
       "    </tr>\n",
       "  </tbody>\n",
       "</table>\n",
       "</div>"
      ],
      "text/plain": [
       "                                               title  \\\n",
       "0                       You Can Smell Hillary’s Fear   \n",
       "1  Watch The Exact Moment Paul Ryan Committed Pol...   \n",
       "2        Kerry to go to Paris in gesture of sympathy   \n",
       "3  Bernie supporters on Twitter erupt in anger ag...   \n",
       "4   The Battle of New York: Why This Primary Matters   \n",
       "\n",
       "                                                text label  binary_label  \\\n",
       "0  Daniel Greenfield, a Shillman Journalism Fello...  FAKE             0   \n",
       "1  Google Pinterest Digg Linkedin Reddit Stumbleu...  FAKE             0   \n",
       "2  U.S. Secretary of State John F. Kerry said Mon...  REAL             1   \n",
       "3  — Kaydee King (@KaydeeKing) November 9, 2016 T...  FAKE             0   \n",
       "4  It's primary day in New York and front-runners...  REAL             1   \n",
       "\n",
       "   length_title  length_text  \n",
       "0            28         7518  \n",
       "1            85         2646  \n",
       "2            43         2543  \n",
       "3            84         2660  \n",
       "4            48         1840  "
      ]
     },
     "execution_count": 38,
     "metadata": {},
     "output_type": "execute_result"
    }
   ],
   "source": [
    "news['length_title'] = news['title'].apply(len)\n",
    "news['length_text'] = news['text'].apply(len)\n",
    "news.head()"
   ]
  },
  {
   "cell_type": "code",
   "execution_count": 154,
   "metadata": {},
   "outputs": [
    {
     "data": {
      "text/plain": [
       "<seaborn.axisgrid.FacetGrid at 0x1a4ffd2978>"
      ]
     },
     "execution_count": 154,
     "metadata": {},
     "output_type": "execute_result"
    },
    {
     "data": {
      "image/png": "[encoded data removed]",
      "text/plain": [
       "<matplotlib.figure.Figure at 0x1a7a1c7e80>"
      ]
     },
     "metadata": {},
     "output_type": "display_data"
    }
   ],
   "source": [
    "sns.lmplot( x=\"length_title\", y=\"length_text\", data=news, fit_reg=False, hue='label', legend=True)"
   ]
  },
  {
   "cell_type": "code",
   "execution_count": 283,
   "metadata": {
    "collapsed": true
   },
   "outputs": [],
   "source": [
    "from nltk.tokenize import RegexpTokenizer\n",
    "from collections import Counter\n",
    "def count_top_word(dataset):\n",
    "    count_word = dataset.text.apply(RegexpTokenizer(r'\\w+').tokenize)\n",
    "    words = []\n",
    "    for i in count_word:\n",
    "        words.extend(i)\n",
    "\n",
    "    words = [i for i in words if i.lower() not in stop_word]\n",
    "    \n",
    "    rslt = pd.DataFrame(Counter(words).most_common(20), columns=['Word', 'Frequency']).set_index('Word')\n",
    "    #print(rslt)\n",
    "\n",
    "    # plot\n",
    "    rslt.plot.bar(rot=0, figsize=(16,10), width=0.8)\n",
    "    plt.xticks(rotation=45)"
   ]
  },
  {
   "cell_type": "code",
   "execution_count": 284,
   "metadata": {},
   "outputs": [
    {
     "data": {
      "image/png": "[encoded data removed]",
      "text/plain": [
       "<matplotlib.figure.Figure at 0x1a7f883dd8>"
      ]
     },
     "metadata": {},
     "output_type": "display_data"
    }
   ],
   "source": [
    "count_top_word(news[news['label']=='FAKE'])"
   ]
  },
  {
   "cell_type": "code",
   "execution_count": 285,
   "metadata": {},
   "outputs": [
    {
     "data": {
      "image/png": "[encoded data removed]",
      "text/plain": [
       "<matplotlib.figure.Figure at 0x1a825a94e0>"
      ]
     },
     "metadata": {},
     "output_type": "display_data"
    }
   ],
   "source": [
    "count_top_word(news[news['label']=='REAL'])"
   ]
  },
  {
   "cell_type": "markdown",
   "metadata": {},
   "source": [
    "## Stop words list"
   ]
  },
  {
   "cell_type": "markdown",
   "metadata": {},
   "source": [
    "* I plan to try three types of stop words. One is the scikit-learn english stop words, the other is the the stopwords file from the Onix. The third one is created by union the previous two stop word list."
   ]
  },
  {
   "cell_type": "markdown",
   "metadata": {},
   "source": [
    "#### Download the stopwords file from the website"
   ]
  },
  {
   "cell_type": "code",
   "execution_count": 131,
   "metadata": {
    "collapsed": true
   },
   "outputs": [],
   "source": [
    "res = requests.get('http://www.lextek.com/manuals/onix/stopwords1.html')\n",
    "soup = bs4.BeautifulSoup(res.text,\"lxml\")\n",
    "stop_word=[tag.text for tag in soup.select('pre')]\n",
    "stop_word=[l.split('\\n\\n') for l in stop_word]\n",
    "stop_word=stop_word[0][6:]"
   ]
  },
  {
   "cell_type": "markdown",
   "metadata": {},
   "source": [
    "#### scikit-learn english stop words"
   ]
  },
  {
   "cell_type": "code",
   "execution_count": 134,
   "metadata": {
    "collapsed": true
   },
   "outputs": [],
   "source": [
    "from sklearn.feature_extraction import stop_words\n",
    "\n",
    "stop_words_english = stop_words.ENGLISH_STOP_WORDS\n",
    "stop_words_english = list(stop_words_english)"
   ]
  },
  {
   "cell_type": "markdown",
   "metadata": {
    "collapsed": true
   },
   "source": [
    "#### Union the two stop words"
   ]
  },
  {
   "cell_type": "code",
   "execution_count": 135,
   "metadata": {},
   "outputs": [
    {
     "data": {
      "text/plain": [
       "False"
      ]
     },
     "execution_count": 135,
     "metadata": {},
     "output_type": "execute_result"
    }
   ],
   "source": [
    "stop_word == stop_words_english"
   ]
  },
  {
   "cell_type": "code",
   "execution_count": 137,
   "metadata": {},
   "outputs": [],
   "source": [
    "stop_words_union = list(set(stop_words_english).union(stop_word))"
   ]
  },
  {
   "cell_type": "markdown",
   "metadata": {},
   "source": [
    "## Create a function\n",
    "* Creating a function which could combine the text reprocessing method and model building method  a pipeline and fine-tune the hyperparameters by grid search:"
   ]
  },
  {
   "cell_type": "code",
   "execution_count": 138,
   "metadata": {},
   "outputs": [],
   "source": [
    "def pipline_grid(parameters, pip, train_x, train_y):\n",
    "    \n",
    "    kfold = KFold(n_splits=3, random_state=10)\n",
    "    gs = GridSearchCV(pip, parameters, cv=kfold, scoring= 'accuracy')\n",
    "    \n",
    "    print(\"Performing grid search...\")\n",
    "    print(\"Pipeline:\", [name for name, _ in pip.steps])\n",
    "    t0 = time()\n",
    "    gs.fit(train_x, train_y)\n",
    "    t1 = time() \n",
    "    print(\"Done in %0.3fs\" % (t1 - t0))\n",
    "    \n",
    "    print(\"Best score: %0.3f\" % gs.best_score_)\n",
    "    print(\"Best parameters:\")\n",
    "    best_parameters = gs.best_estimator_.get_params()\n",
    "    for i in list(parameters_title.keys()):\n",
    "        print(str(i)+' :')\n",
    "        if str(i) == 'vect__stop_words':\n",
    "            if best_parameters.get(i)==stop_word:\n",
    "                print('stop_word')\n",
    "            elif best_parameters.get(i)==stop_words_english:\n",
    "                print('stop_words_english')\n",
    "            elif best_parameters.get(i)==stop_words_union:\n",
    "                print('stop_words_union')\n",
    "        else:\n",
    "            print(best_parameters.get(i))\n",
    "    return t1 - t0"
   ]
  },
  {
   "cell_type": "markdown",
   "metadata": {},
   "source": [
    "* Validate the model"
   ]
  },
  {
   "cell_type": "code",
   "execution_count": 91,
   "metadata": {
    "collapsed": true
   },
   "outputs": [],
   "source": [
    "def validation (test_x, test_y, model):\n",
    "    # Validate\n",
    "    pred = model.predict(test_x)\n",
    "    score = accuracy_score(test_y, pred)\n",
    "    print (\"accuracy:   %0.4f\" % score)\n",
    "    print(classification_report(test_y, pred, target_names=['FAKE', 'REAL']))\n",
    "    cf = confusion_matrix(test_y, pred)\n",
    "    sns.heatmap(cf , annot=True, fmt=\"d\", cmap=\"YlGnBu\")\n",
    "    plt.ylabel('True label')\n",
    "    plt.xlabel('Predicted label')\n",
    "    return score"
   ]
  },
  {
   "cell_type": "markdown",
   "metadata": {},
   "source": [
    "## Try title as input values"
   ]
  },
  {
   "cell_type": "markdown",
   "metadata": {},
   "source": [
    "#### split the data set"
   ]
  },
  {
   "cell_type": "code",
   "execution_count": 73,
   "metadata": {
    "collapsed": true
   },
   "outputs": [],
   "source": [
    "X_train_title, X_test_title, y_train, y_test = train_test_split(news['title'], \n",
    "                                                    news.binary_label , random_state=10)"
   ]
  },
  {
   "cell_type": "markdown",
   "metadata": {},
   "source": [
    "### Frequency Vectors (CountVectorizer)"
   ]
  },
  {
   "cell_type": "markdown",
   "metadata": {},
   "source": [
    "* Grid search"
   ]
  },
  {
   "cell_type": "code",
   "execution_count": 139,
   "metadata": {
    "collapsed": true
   },
   "outputs": [],
   "source": [
    "pipeline_count_grid = Pipeline([\n",
    "    ('vect', CountVectorizer()),\n",
    "    ('nb', MultinomialNB()),\n",
    "])\n",
    "\n",
    "\n",
    "parameters_title = {\n",
    "    'vect__stop_words': (stop_word, stop_words_english, stop_words_union),\n",
    "    'vect__ngram_range': ((1, 1), (1, 2), (2, 2), (3, 3)),  \n",
    "    'vect__lowercase': (True, False),\n",
    "    'vect__min_df': (1, 2, 3),\n",
    "    'nb__alpha': np.arange(0.1,1.1,0.1),\n",
    "}"
   ]
  },
  {
   "cell_type": "code",
   "execution_count": 140,
   "metadata": {},
   "outputs": [
    {
     "name": "stdout",
     "output_type": "stream",
     "text": [
      "Performing grid search...\n",
      "Pipeline: ['vect', 'nb']\n",
      "Done in 339.894s\n",
      "Best score: 0.840\n",
      "Best parameters:\n",
      "vect__stop_words :\n",
      "stop_words_union\n",
      "vect__ngram_range :\n",
      "(1, 2)\n",
      "vect__lowercase :\n",
      "False\n",
      "vect__min_df :\n",
      "1\n",
      "nb__alpha :\n",
      "0.8\n"
     ]
    }
   ],
   "source": [
    "best_parameter_title_tfidf = pipline_grid(parameters_title, pipeline_count_grid, X_train_title, y_train)"
   ]
  },
  {
   "cell_type": "markdown",
   "metadata": {},
   "source": [
    "* Create pipline based on the best suitable parameters get from grid search"
   ]
  },
  {
   "cell_type": "code",
   "execution_count": 79,
   "metadata": {},
   "outputs": [
    {
     "data": {
      "text/plain": [
       "Pipeline(memory=None,\n",
       "     steps=[('vect_title_count', CountVectorizer(analyzer='word', binary=False, decode_error='strict',\n",
       "        dtype=<class 'numpy.int64'>, encoding='utf-8', input='content',\n",
       "        lowercase=False, max_df=1.0, max_features=None, min_df=1,\n",
       "        ngram_range=(1, 2), preprocessor=None,\n",
       "        stop_word..., vocabulary=None)), ('nb_title_count', MultinomialNB(alpha=0.8, class_prior=None, fit_prior=True))])"
      ]
     },
     "execution_count": 79,
     "metadata": {},
     "output_type": "execute_result"
    }
   ],
   "source": [
    "vect_title_count = CountVectorizer(stop_words=stop_words_union, \n",
    "                                   lowercase = False, min_df = 1, ngram_range = (1, 2))\n",
    "\n",
    "nb_title_count = MultinomialNB(alpha = 0.8)\n",
    "\n",
    "pipe_count_title = Pipeline(steps=[('vect_title_count', vect_title_count),\n",
    "                                   ('nb_title_count', nb_title_count)])\n",
    "\n",
    "pipe_count_title.fit(X_train_title, y_train)"
   ]
  },
  {
   "cell_type": "markdown",
   "metadata": {},
   "source": [
    "* Validate the model"
   ]
  },
  {
   "cell_type": "code",
   "execution_count": 102,
   "metadata": {},
   "outputs": [
    {
     "name": "stdout",
     "output_type": "stream",
     "text": [
      "accuracy:   0.8611\n",
      "             precision    recall  f1-score   support\n",
      "\n",
      "       FAKE       0.86      0.86      0.86       780\n",
      "       REAL       0.86      0.87      0.86       797\n",
      "\n",
      "avg / total       0.86      0.86      0.86      1577\n",
      "\n"
     ]
    },
    {
     "data": {
      "text/plain": [
       "0.8611287254280279"
      ]
     },
     "execution_count": 102,
     "metadata": {},
     "output_type": "execute_result"
    },
    {
     "data": {
      "image/png": "[encoded data removed]",
      "text/plain": [
       "<matplotlib.figure.Figure at 0x1a13b232b0>"
      ]
     },
     "metadata": {},
     "output_type": "display_data"
    }
   ],
   "source": [
    "validation(X_test_title, y_test, pipe_count_title)"
   ]
  },
  {
   "cell_type": "markdown",
   "metadata": {},
   "source": [
    "### Term Frequency–Inverse Document Frequency"
   ]
  },
  {
   "cell_type": "markdown",
   "metadata": {},
   "source": [
    "* Grid search"
   ]
  },
  {
   "cell_type": "code",
   "execution_count": 98,
   "metadata": {
    "collapsed": true
   },
   "outputs": [],
   "source": [
    "pipeline_tfidf_grid = Pipeline([\n",
    "    ('vect', TfidfVectorizer()),\n",
    "    ('nb', MultinomialNB()),\n",
    "])\n",
    "\n",
    "\n",
    "parameters_title = {\n",
    "    'vect__stop_words': (stop_word, stop_words_english, stop_words_union),\n",
    "    'vect__ngram_range': ((1, 1), (1, 2), (2, 2), (3, 3)),  \n",
    "    'vect__lowercase': (True, False),\n",
    "    'vect__min_df': (1, 2, 3),\n",
    "    'nb__alpha': np.arange(0.1,1.1,0.1),\n",
    "}\n",
    "\n",
    "kfold = KFold(n_splits=3, random_state=10)\n",
    "\n",
    "gs_title_tfidf = GridSearchCV(pipeline_tfidf_grid, parameters_title, cv=kfold, scoring= 'accuracy')\n"
   ]
  },
  {
   "cell_type": "code",
   "execution_count": 99,
   "metadata": {},
   "outputs": [
    {
     "name": "stdout",
     "output_type": "stream",
     "text": [
      "Performing grid search...\n",
      "Pipeline: ['vect', 'nb']\n",
      "Done in 342.676s\n",
      "Best score: 0.840\n",
      "Best parameters:\n",
      "vect__stop_words :\n",
      "stop_word\n",
      "vect__ngram_range :\n",
      "(1, 2)\n",
      "vect__lowercase :\n",
      "False\n",
      "vect__min_df :\n",
      "1\n",
      "nb__alpha :\n",
      "0.5\n"
     ]
    }
   ],
   "source": [
    "best_parameter_title_count = pipline_grid(parameters_title, pipeline_tfidf_grid, X_train_title, y_train)"
   ]
  },
  {
   "cell_type": "markdown",
   "metadata": {},
   "source": [
    "* Create pipline based on the best suitable parameters get from grid search"
   ]
  },
  {
   "cell_type": "code",
   "execution_count": 100,
   "metadata": {},
   "outputs": [
    {
     "data": {
      "text/plain": [
       "Pipeline(memory=None,\n",
       "     steps=[('vect_title_tfidf', TfidfVectorizer(analyzer='word', binary=False, decode_error='strict',\n",
       "        dtype=<class 'numpy.int64'>, encoding='utf-8', input='content',\n",
       "        lowercase=False, max_df=1.0, max_features=None, min_df=1,\n",
       "        ngram_range=(1, 2), norm='l2', preprocessor=None, smooth...  vocabulary=None)), ('nb_title_tfidf', MultinomialNB(alpha=0.5, class_prior=None, fit_prior=True))])"
      ]
     },
     "execution_count": 100,
     "metadata": {},
     "output_type": "execute_result"
    }
   ],
   "source": [
    "vect_title_tfidf = TfidfVectorizer(stop_words = stop_word,lowercase = False, min_df = 1, ngram_range = (1, 2))\n",
    "nb_title_tfidf = MultinomialNB(alpha = 0.5)\n",
    "\n",
    "pipe_tfidf_title = Pipeline(steps=[('vect_title_tfidf', vect_title_tfidf),\n",
    "                                   ('nb_title_tfidf', nb_title_tfidf)])\n",
    "\n",
    "pipe_tfidf_title.fit(X_train_title, y_train)"
   ]
  },
  {
   "cell_type": "markdown",
   "metadata": {},
   "source": [
    "* Validation"
   ]
  },
  {
   "cell_type": "code",
   "execution_count": 101,
   "metadata": {},
   "outputs": [
    {
     "name": "stdout",
     "output_type": "stream",
     "text": [
      "accuracy:   0.8605\n",
      "             precision    recall  f1-score   support\n",
      "\n",
      "       FAKE       0.87      0.85      0.86       780\n",
      "       REAL       0.85      0.87      0.86       797\n",
      "\n",
      "avg / total       0.86      0.86      0.86      1577\n",
      "\n"
     ]
    },
    {
     "data": {
      "text/plain": [
       "0.8604946100190235"
      ]
     },
     "execution_count": 101,
     "metadata": {},
     "output_type": "execute_result"
    },
    {
     "data": {
      "image/png": "[encoded data removed]",
      "text/plain": [
       "<matplotlib.figure.Figure at 0x1a1450ae10>"
      ]
     },
     "metadata": {},
     "output_type": "display_data"
    }
   ],
   "source": [
    "validation(X_test_title, y_test, pipe_tfidf_title)"
   ]
  },
  {
   "cell_type": "markdown",
   "metadata": {},
   "source": [
    "## Try text as input values"
   ]
  },
  {
   "cell_type": "code",
   "execution_count": 106,
   "metadata": {
    "collapsed": true
   },
   "outputs": [],
   "source": [
    "X_train_text, X_test_text, y_train, y_test = train_test_split(news['text'], \n",
    "                                                    news.binary_label , random_state=10)"
   ]
  },
  {
   "cell_type": "markdown",
   "metadata": {},
   "source": [
    "### Frequency Vectors (CountVectorizer)"
   ]
  },
  {
   "cell_type": "markdown",
   "metadata": {},
   "source": [
    "* Grid search"
   ]
  },
  {
   "cell_type": "code",
   "execution_count": 121,
   "metadata": {
    "collapsed": true
   },
   "outputs": [],
   "source": [
    "pipeline_count_grid = Pipeline([\n",
    "    ('vect', CountVectorizer()),\n",
    "    ('nb', MultinomialNB()),\n",
    "])\n",
    "\n",
    "\n",
    "parameters_text = {\n",
    "    'vect__ngram_range': ((1, 1), (2, 2), (3, 3)),  \n",
    "    'vect__min_df': (1, 2, 3),\n",
    "    'vect__lowercase': (True, False),\n",
    "    'nb__alpha': [0.1, 0.3, 0.5, 0.7, 0.9, 1],\n",
    "}\n"
   ]
  },
  {
   "cell_type": "code",
   "execution_count": 122,
   "metadata": {},
   "outputs": [
    {
     "name": "stdout",
     "output_type": "stream",
     "text": [
      "Performing grid search...\n",
      "Pipeline: ['vect', 'nb']\n",
      "Done in 3810.503s\n",
      "Best score: 0.912\n",
      "Best parameters:\n",
      "vect__stop_words :\n",
      "stop_words_union\n",
      "vect__ngram_range :\n",
      "(2, 2)\n",
      "vect__lowercase :\n",
      "False\n",
      "vect__min_df :\n",
      "3\n",
      "nb__alpha :\n",
      "0.1\n"
     ]
    }
   ],
   "source": [
    "best_parameter_text_count = pipline_grid(parameters_text, pipeline_count_grid, X_train_text, y_train)"
   ]
  },
  {
   "cell_type": "markdown",
   "metadata": {},
   "source": [
    "* Create pipline based on the best suitable parameters get from grid search"
   ]
  },
  {
   "cell_type": "code",
   "execution_count": 141,
   "metadata": {},
   "outputs": [
    {
     "data": {
      "text/plain": [
       "Pipeline(memory=None,\n",
       "     steps=[('vect_text_count', CountVectorizer(analyzer='word', binary=False, decode_error='strict',\n",
       "        dtype=<class 'numpy.int64'>, encoding='utf-8', input='content',\n",
       "        lowercase=False, max_df=1.0, max_features=None, min_df=3,\n",
       "        ngram_range=(2, 2), preprocessor=None, stop_words=None,\n",
       "        strip_accents=None, token_pattern='(?u)\\\\b\\\\w\\\\w+\\\\b',\n",
       "        tokenizer=None, vocabulary=None)), ('nb_text_count', MultinomialNB(alpha=0.1, class_prior=None, fit_prior=True))])"
      ]
     },
     "execution_count": 141,
     "metadata": {},
     "output_type": "execute_result"
    }
   ],
   "source": [
    "vect_text_count = CountVectorizer(min_df = 3, ngram_range = (2, 2), lowercase = False)\n",
    "\n",
    "nb_text_count = MultinomialNB(alpha = 0.1)\n",
    "\n",
    "pipe_count_text = Pipeline(steps=[('vect_text_count', vect_text_count),\n",
    "                                   ('nb_text_count', nb_text_count)])\n",
    "\n",
    "pipe_count_text.fit(X_train_text, y_train)"
   ]
  },
  {
   "cell_type": "markdown",
   "metadata": {},
   "source": [
    "* Validation"
   ]
  },
  {
   "cell_type": "code",
   "execution_count": 142,
   "metadata": {},
   "outputs": [
    {
     "name": "stdout",
     "output_type": "stream",
     "text": [
      "accuracy:   0.9176\n",
      "             precision    recall  f1-score   support\n",
      "\n",
      "       FAKE       0.95      0.88      0.91       780\n",
      "       REAL       0.89      0.96      0.92       797\n",
      "\n",
      "avg / total       0.92      0.92      0.92      1577\n",
      "\n"
     ]
    },
    {
     "data": {
      "text/plain": [
       "0.9175649968294229"
      ]
     },
     "execution_count": 142,
     "metadata": {},
     "output_type": "execute_result"
    },
    {
     "data": {
      "image/png": "[encoded data removed]",
      "text/plain": [
       "<matplotlib.figure.Figure at 0x1a2b894470>"
      ]
     },
     "metadata": {},
     "output_type": "display_data"
    }
   ],
   "source": [
    "validation(X_test_text, y_test, pipe_count_text)"
   ]
  },
  {
   "cell_type": "markdown",
   "metadata": {},
   "source": [
    "### Term Frequency–Inverse Document Frequency"
   ]
  },
  {
   "cell_type": "markdown",
   "metadata": {},
   "source": [
    "* Grid search"
   ]
  },
  {
   "cell_type": "code",
   "execution_count": 294,
   "metadata": {
    "collapsed": true
   },
   "outputs": [],
   "source": [
    "pipeline_tfidf_grid = Pipeline([\n",
    "    ('vect', TfidfVectorizer()),\n",
    "    ('nb', MultinomialNB()),\n",
    "])\n",
    "\n",
    "\n",
    "parameters_text = {\n",
    "    'vect__ngram_range': ((1, 1), (1, 2), (1, 3)),  \n",
    "    'vect__min_df': (1, 2, 3),\n",
    "    'vect__lowercase': (True, False),\n",
    "    'nb__alpha': [0.1, 0.3, 0.5, 0.7, 0.9, 1],\n",
    "}\n",
    "\n"
   ]
  },
  {
   "cell_type": "code",
   "execution_count": 295,
   "metadata": {},
   "outputs": [
    {
     "name": "stdout",
     "output_type": "stream",
     "text": [
      "Performing grid search...\n",
      "Pipeline: ['vect', 'nb']\n",
      "Done in 6446.378s\n",
      "Best score: 0.920\n",
      "Best parameters:\n",
      "vect__stop_words :\n",
      "vect__ngram_range :\n",
      "(1, 3)\n",
      "vect__lowercase :\n",
      "False\n",
      "vect__min_df :\n",
      "3\n",
      "nb__alpha :\n",
      "0.1\n"
     ]
    }
   ],
   "source": [
    "best_parameter_title_count = pipline_grid(parameters_text, pipeline_tfidf_grid, X_train_text, y_train)"
   ]
  },
  {
   "cell_type": "markdown",
   "metadata": {},
   "source": [
    "* Create pipline based on the best suitable parameters get from grid search"
   ]
  },
  {
   "cell_type": "code",
   "execution_count": 151,
   "metadata": {},
   "outputs": [
    {
     "data": {
      "text/plain": [
       "Pipeline(memory=None,\n",
       "     steps=[('vect_text_tfidf', TfidfVectorizer(analyzer='word', binary=False, decode_error='strict',\n",
       "        dtype=<class 'numpy.int64'>, encoding='utf-8', input='content',\n",
       "        lowercase=False, max_df=1.0, max_features=None, min_df=3,\n",
       "        ngram_range=(1, 3), norm='l2', preprocessor=None, smooth_...   vocabulary=None)), ('nb_text_tfidf', MultinomialNB(alpha=0.1, class_prior=None, fit_prior=True))])"
      ]
     },
     "execution_count": 151,
     "metadata": {},
     "output_type": "execute_result"
    }
   ],
   "source": [
    "vect_text_tfidf = TfidfVectorizer(lowercase = False, min_df = 3, ngram_range = (1, 3))\n",
    "nb_text_tfidf = MultinomialNB(alpha = 0.1)\n",
    "\n",
    "pipe_tfidf_text = Pipeline(steps=[('vect_text_tfidf', vect_text_tfidf),\n",
    "                                   ('nb_text_tfidf', nb_text_tfidf)])\n",
    "\n",
    "pipe_tfidf_text.fit(X_train_text, y_train)"
   ]
  },
  {
   "cell_type": "markdown",
   "metadata": {},
   "source": [
    "* Validation"
   ]
  },
  {
   "cell_type": "code",
   "execution_count": 152,
   "metadata": {},
   "outputs": [
    {
     "name": "stdout",
     "output_type": "stream",
     "text": [
      "accuracy:   0.9233\n",
      "             precision    recall  f1-score   support\n",
      "\n",
      "       FAKE       0.96      0.88      0.92       780\n",
      "       REAL       0.89      0.96      0.93       797\n",
      "\n",
      "avg / total       0.93      0.92      0.92      1577\n",
      "\n"
     ]
    },
    {
     "data": {
      "text/plain": [
       "0.9232720355104629"
      ]
     },
     "execution_count": 152,
     "metadata": {},
     "output_type": "execute_result"
    },
    {
     "data": {
      "image/png": "[encoded data removed]",
      "text/plain": [
       "<matplotlib.figure.Figure at 0x1a226c0ba8>"
      ]
     },
     "metadata": {},
     "output_type": "display_data"
    }
   ],
   "source": [
    "validation(X_test_text, y_test, pipe_tfidf_text)"
   ]
  },
  {
   "cell_type": "markdown",
   "metadata": {},
   "source": [
    "#### Conclusion 1:\n",
    "* The classifiers built with news text performance better than built with news title;\n",
    "* Classifier built with Tfidf Vectorizer and Mulitnomial Naive Bayes has higher accuracy compared with that with Count Vectorizer. The best hyperparameters for the best performing model are:\n"
   ]
  },
  {
   "cell_type": "markdown",
   "metadata": {},
   "source": [
    "### Based on the outcome I have got now, I plan to use the Tfidf Vectorizer with the best parameters as my preprocessing method and try other normally used sentiment analysis algorithms such as: Logistic Regression and Linear Support Vector Machine."
   ]
  },
  {
   "cell_type": "markdown",
   "metadata": {},
   "source": [
    "## Preprocessing features"
   ]
  },
  {
   "cell_type": "code",
   "execution_count": 299,
   "metadata": {
    "collapsed": true
   },
   "outputs": [],
   "source": [
    "tfidf = TfidfVectorizer(lowercase = False, min_df = 3, ngram_range = (1, 3)) \n",
    "tfidf_train_x = tfidf.fit_transform(X_train_text) \n",
    "tfidf_test_x = tfidf.transform(X_test_text)"
   ]
  },
  {
   "cell_type": "markdown",
   "metadata": {},
   "source": [
    "## Logistic regression"
   ]
  },
  {
   "cell_type": "code",
   "execution_count": 305,
   "metadata": {
    "collapsed": true
   },
   "outputs": [],
   "source": [
    "from sklearn.linear_model import LogisticRegression"
   ]
  },
  {
   "cell_type": "markdown",
   "metadata": {},
   "source": [
    "* Grid Search"
   ]
  },
  {
   "cell_type": "code",
   "execution_count": 302,
   "metadata": {},
   "outputs": [
    {
     "name": "stdout",
     "output_type": "stream",
     "text": [
      "Best Parameters: {'C': 100}\n",
      "Best cross-validation Accuracy: 0.9317\n",
      "Best estimator:\n",
      "LogisticRegression(C=100, class_weight=None, dual=False, fit_intercept=True,\n",
      "          intercept_scaling=1, max_iter=100, multi_class='ovr', n_jobs=1,\n",
      "          penalty='l2', random_state=None, solver='liblinear', tol=0.0001,\n",
      "          verbose=0, warm_start=False)\n"
     ]
    }
   ],
   "source": [
    "logit_param={\"C\":[0.001,0.01,0.1,1,10,100]}\n",
    "\n",
    "kfold=KFold(n_splits=3, random_state=10)\n",
    "\n",
    "logit_grid = GridSearchCV(LogisticRegression() , logit_param, cv=kfold, scoring= 'accuracy')\n",
    "\n",
    "#Fitting\n",
    "logit_grid.fit(tfidf_train_x, y_train)\n",
    "\n",
    "#Printing reports\n",
    "print(\"Best Parameters: {}\".format(logit_grid.best_params_))\n",
    "print(\"Best cross-validation Accuracy: {:.4f}\".format(logit_grid.best_score_))\n",
    "print(\"Best estimator:\\n{}\".format(logit_grid.best_estimator_))"
   ]
  },
  {
   "cell_type": "markdown",
   "metadata": {},
   "source": [
    "* Build logistic model with best parameter"
   ]
  },
  {
   "cell_type": "code",
   "execution_count": 303,
   "metadata": {
    "collapsed": true
   },
   "outputs": [],
   "source": [
    "logisticRegression = LogisticRegression(C = 100).fit(tfidf_train_x, y_train) "
   ]
  },
  {
   "cell_type": "markdown",
   "metadata": {},
   "source": [
    "* Validation"
   ]
  },
  {
   "cell_type": "code",
   "execution_count": 304,
   "metadata": {},
   "outputs": [
    {
     "name": "stdout",
     "output_type": "stream",
     "text": [
      "accuracy:   0.9461\n",
      "             precision    recall  f1-score   support\n",
      "\n",
      "       FAKE       0.94      0.96      0.95       780\n",
      "       REAL       0.96      0.94      0.95       797\n",
      "\n",
      "avg / total       0.95      0.95      0.95      1577\n",
      "\n"
     ]
    },
    {
     "data": {
      "text/plain": [
       "0.9461001902346227"
      ]
     },
     "execution_count": 304,
     "metadata": {},
     "output_type": "execute_result"
    },
    {
     "data": {
      "image/png": "[encoded data removed]",
      "text/plain": [
       "<matplotlib.figure.Figure at 0x1af33b4438>"
      ]
     },
     "metadata": {},
     "output_type": "display_data"
    }
   ],
   "source": [
    "validation(tfidf_test_x, y_test, logisticRegression)"
   ]
  },
  {
   "cell_type": "markdown",
   "metadata": {},
   "source": [
    "## Linear Support Vector Machine"
   ]
  },
  {
   "cell_type": "markdown",
   "metadata": {},
   "source": [
    "* I have tried nonlinear SVC ,but the classifier blindly assigns all the outcomes to 0 (FAKE). \n",
    "* Linear SVC works good on this dataset."
   ]
  },
  {
   "cell_type": "code",
   "execution_count": 317,
   "metadata": {
    "collapsed": true
   },
   "outputs": [],
   "source": [
    "from sklearn.svm import LinearSVC"
   ]
  },
  {
   "cell_type": "code",
   "execution_count": 320,
   "metadata": {},
   "outputs": [
    {
     "name": "stdout",
     "output_type": "stream",
     "text": [
      "Best K: {'C': 1, 'loss': 'hinge'}\n",
      "Best cross-validation Accuracy: 0.9342\n",
      "Best estimator:\n",
      "LinearSVC(C=1, class_weight=None, dual=True, fit_intercept=True,\n",
      "     intercept_scaling=1, loss='hinge', max_iter=1000, multi_class='ovr',\n",
      "     penalty='l2', random_state=None, tol=0.0001, verbose=0)\n"
     ]
    }
   ],
   "source": [
    "linearSVCparam={\"C\":[0.001, 0.01, 0.1, 1, 10, 100, 1000],\n",
    "               \"loss\": ['hinge', 'squared_hinge']}\n",
    "\n",
    "kfold = KFold(n_splits=3, random_state=10)\n",
    "\n",
    "grid_linearSVC=GridSearchCV(LinearSVC(), linearSVCparam, cv=kfold, scoring= 'accuracy')\n",
    "\n",
    "#Fitting\n",
    "grid_linearSVC.fit(tfidf_train_x, y_train)\n",
    "\n",
    "#Print reports\n",
    "print(\"Best K: {}\".format(grid_linearSVC.best_params_))\n",
    "print(\"Best cross-validation Accuracy: {:.4f}\".format(grid_linearSVC.best_score_))\n",
    "print(\"Best estimator:\\n{}\".format(grid_linearSVC.best_estimator_))"
   ]
  },
  {
   "cell_type": "code",
   "execution_count": 321,
   "metadata": {
    "collapsed": true
   },
   "outputs": [],
   "source": [
    "linearSVC = LinearSVC(C = 1, loss = 'hinge').fit(tfidf_train_x, y_train) "
   ]
  },
  {
   "cell_type": "code",
   "execution_count": 322,
   "metadata": {},
   "outputs": [
    {
     "name": "stdout",
     "output_type": "stream",
     "text": [
      "accuracy:   0.9505\n",
      "             precision    recall  f1-score   support\n",
      "\n",
      "       FAKE       0.94      0.96      0.95       780\n",
      "       REAL       0.96      0.94      0.95       797\n",
      "\n",
      "avg / total       0.95      0.95      0.95      1577\n",
      "\n"
     ]
    },
    {
     "data": {
      "text/plain": [
       "0.9505389980976537"
      ]
     },
     "execution_count": 322,
     "metadata": {},
     "output_type": "execute_result"
    },
    {
     "data": {
      "image/png": "[encoded data removed]",
      "text/plain": [
       "<matplotlib.figure.Figure at 0x1af7cbd320>"
      ]
     },
     "metadata": {},
     "output_type": "display_data"
    }
   ],
   "source": [
    "validation(tfidf_test_x, y_test, linearSVC)"
   ]
  },
  {
   "cell_type": "markdown",
   "metadata": {},
   "source": [
    "#### Finally, the linear SVC get the highest accuracy score on test dataset which is 95.05%"
   ]
  },
  {
   "cell_type": "code",
   "execution_count": null,
   "metadata": {
    "collapsed": true
   },
   "outputs": [],
   "source": []
  }
 ],
 "metadata": {
  "kernelspec": {
   "display_name": "Python 3",
   "language": "python",
   "name": "python3"
  },
  "language_info": {
   "codemirror_mode": {
    "name": "ipython",
    "version": 3
   },
   "file_extension": ".py",
   "mimetype": "text/x-python",
   "name": "python",
   "nbconvert_exporter": "python",
   "pygments_lexer": "ipython3",
   "version": "3.6.3"
  }
 },
 "nbformat": 4,
 "nbformat_minor": 2
}
